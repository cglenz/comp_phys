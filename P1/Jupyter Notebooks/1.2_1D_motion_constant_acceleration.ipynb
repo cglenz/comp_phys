{
 "cells": [
  {
   "cell_type": "markdown",
   "metadata": {},
   "source": [
    "# One Dimensional Motion - Part II\n",
    "\n",
    "![Image 1.1 - A Running Cheetah](../../images/cheetah.jpg \"Running Cheetah\")\n",
    "\n",
    "\n",
    "### Constant acceleration\n",
    "Now let's do the exact same thing as before, but add another variable for acceleration, and make it so velocity changes over time."
   ]
  },
  {
   "cell_type": "code",
   "execution_count": 2,
   "metadata": {},
   "outputs": [],
   "source": [
    "\n",
    "\n",
    "import matplotlib.pyplot as plt\n",
    "\n",
    "#initial values\n",
    "x = 0.0\n",
    "t = 0.0\n",
    "v = 0.0\n",
    "\n",
    "#constants\n",
    "a = 10.0\n",
    "t_max = 5\n",
    "\n",
    "# initialize lists to hold the values created\n",
    "X=[0,]\n",
    "V=[0,]\n",
    "T=[0,]\n",
    "\n",
    "# set the step time. dt = 0.1 means that we will have ten steps per second.\n",
    "dt = 0.1\n",
    "\n",
    "# define the change in velocity, which will not change\n",
    "dv = a * dt\n",
    "\n",
    "# set up the while loop to update the position and time after each step.\n",
    "#After this is done, these values are then added (appended) to\n",
    "# the X, V, and T lists\n",
    "\n",
    "while t < t_max:\n",
    "    # every time step, the postition will change by the velocity \n",
    "    # multiplied by the\n",
    "    # change in time\n",
    "    dx = v*dt\n",
    "    \n",
    "    x = x + dx\n",
    "    v = v + dv\n",
    "    t = t + dt\n",
    "\n",
    "    X.append(x)\n",
    "    V.append(v)\n",
    "    T.append(t)\n",
    "\n"
   ]
  },
  {
   "cell_type": "code",
   "execution_count": 4,
   "metadata": {},
   "outputs": [
    {
     "data": {
      "image/png": "[encoded data removed]",
      "text/plain": [
       "<Figure size 432x288 with 1 Axes>"
      ]
     },
     "metadata": {
      "needs_background": "light"
     },
     "output_type": "display_data"
    },
    {
     "data": {
      "text/plain": [
       "Text(0,0.5,'velocity')"
      ]
     },
     "execution_count": 4,
     "metadata": {},
     "output_type": "execute_result"
    },
    {
     "data": {
      "image/png": "[encoded data removed]",
      "text/plain": [
       "<Figure size 432x288 with 1 Axes>"
      ]
     },
     "metadata": {
      "needs_background": "light"
     },
     "output_type": "display_data"
    }
   ],
   "source": [
    "plt.figure(0)\n",
    "plt.plot(T,X,'o')\n",
    "plt.xlabel('time')\n",
    "plt.ylabel('position')\n",
    "plt.show()\n",
    "plt.clf()\n",
    "plt.figure(1)\n",
    "plt.plot(T,V,'o')\n",
    "plt.xlabel('time')\n",
    "plt.ylabel('velocity')"
   ]
  }
 ],
 "metadata": {
  "kernelspec": {
   "display_name": "Python 3",
   "language": "python",
   "name": "python3"
  },
  "language_info": {
   "codemirror_mode": {
    "name": "ipython",
    "version": 3
   },
   "file_extension": ".py",
   "mimetype": "text/x-python",
   "name": "python",
   "nbconvert_exporter": "python",
   "pygments_lexer": "ipython3",
   "version": "3.5.2"
  }
 },
 "nbformat": 4,
 "nbformat_minor": 2
}
