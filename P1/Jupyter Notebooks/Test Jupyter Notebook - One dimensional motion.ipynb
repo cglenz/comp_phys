{
 "cells": [
  {
   "cell_type": "markdown",
   "metadata": {},
   "source": [
    "# Test Jupyter Notebook\n",
    "\n",
    "![Image 1.1 - A Running Cheetah](images/cheetah.jpg \"Running Cheetah\")\n",
    "\n",
    "## One dimensional Kinematics\n",
    "\n",
    "Let's make a simple computational model for an object moving in one dimension. We can start out having it move at a constant speed and then make it slightly more complicated by adding acceleration later.\n",
    "\n",
    "### Constant velocity"
   ]
  },
  {
   "cell_type": "code",
   "execution_count": null,
   "metadata": {},
   "outputs": [],
   "source": [
    "x = 0.0\n",
    "t = 0.0\n",
    "v = 10\n",
    "\n",
    "t_max = 10"
   ]
  },
  {
   "cell_type": "markdown",
   "metadata": {},
   "source": [
    "So here we have introduced three variables: x, t, and v. As you may have guessed these stand for position, time, and velocity. "
   ]
  },
  {
   "cell_type": "code",
   "execution_count": null,
   "metadata": {},
   "outputs": [],
   "source": [
    "dt = 0.1\n",
    "dx = v*dt"
   ]
  },
  {
   "cell_type": "code",
   "execution_count": null,
   "metadata": {},
   "outputs": [],
   "source": [
    "while t < t_max:\n",
    "    x = x + dx\n",
    "    t = t + dt\n",
    "    print(t,x)"
   ]
  },
  {
   "cell_type": "code",
   "execution_count": null,
   "metadata": {},
   "outputs": [],
   "source": [
    "import matplotlib.pyplot as plt\n",
    "\n",
    "#initial values\n",
    "x = 0.0\n",
    "t = 0.0\n",
    "\n",
    "#constants\n",
    "v = 10.0\n",
    "t_max = 5\n",
    "\n",
    "# initialize lists to hold the values created\n",
    "X=[0,]\n",
    "T=[0,]\n",
    "\n",
    "# set the step time. dt = 0.1 means that we will have ten steps per second.\n",
    "dt = 0.1\n",
    "\n",
    "# define how the position will change for each step (since velocity is constant, \n",
    "# this will not change over time, so\n",
    "# we can keep it out of the 'while' loop)\n",
    "dx = v*dt\n",
    "\n",
    "# set up the while loop to update the position and time after each step.\n",
    "# After this is done, these values are then added (appended) \n",
    "# to the X and T lists\n",
    "while t < t_max:\n",
    "    x = x + dx\n",
    "    t = t + dt\n",
    "    #print(t,x)\n",
    "    X.append(x)\n",
    "    T.append(t)\n",
    "\n",
    "#print(T,X)\n"
   ]
  },
  {
   "cell_type": "code",
   "execution_count": null,
   "metadata": {},
   "outputs": [],
   "source": [
    "plt.figure(0)\n",
    "plt.plot(T,X,'o')\n",
    "plt.xlabel('time')\n",
    "plt.ylabel('position')\n",
    "plt.show()"
   ]
  },
  {
   "cell_type": "markdown",
   "metadata": {},
   "source": [
    "So this gives us an example of plotting a postion versus time graph of an object moving at a constant speed. Now, we could use this to solve for some unknown quantity given the variables provided, or make changes to fit a new situation. However, you may be asking yourself, would it not be easier to just use $v=\\frac{\\Delta{x}}{\\Delta{t}}$ ?\n",
    "\n",
    "$$v=\\frac{\\Delta{x}}{\\Delta{t}}$$\n",
    "\n",
    "And this would generally be true, but we have to start somewhere.\n"
   ]
  },
  {
   "cell_type": "markdown",
   "metadata": {},
   "source": [
    "### Constant acceleration\n",
    "Now let's do the exact same thing as above, but add another variable for acceleration, and make it so velocity changes over time."
   ]
  },
  {
   "cell_type": "code",
   "execution_count": 11,
   "metadata": {},
   "outputs": [],
   "source": [
    "import matplotlib.pyplot as plt\n",
    "\n",
    "#initial values\n",
    "x = 0.0\n",
    "t = 0.0\n",
    "v = 0.0\n",
    "\n",
    "#constants\n",
    "a = 10.0\n",
    "t_max = 5\n",
    "\n",
    "# initialize lists to hold the values created\n",
    "X=[0,]\n",
    "V=[0,]\n",
    "T=[0,]\n",
    "\n",
    "# set the step time. dt = 0.1 means that we will have ten steps per second.\n",
    "dt = 0.1\n",
    "\n",
    "# define the change in velocity, which will not change\n",
    "dv = a * dt\n",
    "\n",
    "# set up the while loop to update the position and time after each step.\n",
    "#After this is done, these values are then added (appended) to\n",
    "# the X, V, and T lists\n",
    "\n",
    "while t < t_max:\n",
    "    # every time step, the postition will change by the velocity \n",
    "    # multiplied by the\n",
    "    # change in time\n",
    "    dx = v*dt\n",
    "    \n",
    "    x = x + dx\n",
    "    v = v + dv\n",
    "    t = t + dt\n",
    "\n",
    "    X.append(x)\n",
    "    V.append(v)\n",
    "    T.append(t)\n",
    "\n"
   ]
  },
  {
   "cell_type": "code",
   "execution_count": 12,
   "metadata": {},
   "outputs": [
    {
     "data": {
      "image/png": "[encoded data removed]",
      "text/plain": [
       "<Figure size 432x288 with 1 Axes>"
      ]
     },
     "metadata": {},
     "output_type": "display_data"
    },
    {
     "data": {
      "text/plain": [
       "Text(0,0.5,'velocity')"
      ]
     },
     "execution_count": 12,
     "metadata": {},
     "output_type": "execute_result"
    },
    {
     "data": {
      "image/png": "[encoded data removed]",
      "text/plain": [
       "<Figure size 432x288 with 1 Axes>"
      ]
     },
     "metadata": {},
     "output_type": "display_data"
    }
   ],
   "source": [
    "plt.figure(0)\n",
    "plt.plot(T,X,'o')\n",
    "plt.xlabel('time')\n",
    "plt.ylabel('position')\n",
    "plt.show()\n",
    "plt.clf()\n",
    "plt.figure(1)\n",
    "plt.plot(T,V,'x')\n",
    "plt.xlabel('time')\n",
    "plt.ylabel('velocity')"
   ]
  },
  {
   "cell_type": "code",
   "execution_count": null,
   "metadata": {},
   "outputs": [],
   "source": []
  }
 ],
 "metadata": {
  "kernelspec": {
   "display_name": "Python 3",
   "language": "python",
   "name": "python3"
  },
  "language_info": {
   "codemirror_mode": {
    "name": "ipython",
    "version": 3
   },
   "file_extension": ".py",
   "mimetype": "text/x-python",
   "name": "python",
   "nbconvert_exporter": "python",
   "pygments_lexer": "ipython3",
   "version": "3.5.2"
  }
 },
 "nbformat": 4,
 "nbformat_minor": 2
}
