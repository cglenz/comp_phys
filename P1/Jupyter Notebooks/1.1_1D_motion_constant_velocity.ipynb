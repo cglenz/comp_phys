{
 "cells": [
  {
   "cell_type": "markdown",
   "metadata": {},
   "source": [
    "# One Dimensional Motion - Part I\n",
    "\n",
    "![Image 1.1 - A Running Cheetah](../../images/cheetah.jpg \"Running Cheetah\")\n",
    "\n",
    "## One dimensional Kinematics and Introduction to Graphing Data\n",
    "\n",
    "Let's make a simple computational model for an object moving in one dimension. We can start out having it move at a constant speed and then make it slightly more complicated by adding acceleration later.\n",
    "\n",
    "### Constant velocity"
   ]
  },
  {
   "cell_type": "code",
   "execution_count": 10,
   "metadata": {},
   "outputs": [],
   "source": [
    "x = 0.0\n",
    "t = 0.0\n",
    "v = 10\n",
    "\n",
    "t_max = 10"
   ]
  },
  {
   "cell_type": "markdown",
   "metadata": {},
   "source": [
    "So here we have introduced three variables: x, t, and v. As you may have guessed these stand for position, time, and velocity. We will use the t_max to set the time at which the program will stop."
   ]
  },
  {
   "cell_type": "code",
   "execution_count": 11,
   "metadata": {},
   "outputs": [],
   "source": [
    "dt = 0.1\n",
    "dx = v*dt"
   ]
  },
  {
   "cell_type": "markdown",
   "metadata": {},
   "source": [
    "These two variables may not be quite as obvious. They are meant to stand for delta(t) and delta(x), the change in time and change in position, respetively. The purpose of these is to allows us to change the values in our simulation whenever we step forward in time. Therefore, the $dt = 0.1$ means that the simulation will move forward 0.1s at a time."
   ]
  },
  {
   "cell_type": "code",
   "execution_count": null,
   "metadata": {},
   "outputs": [],
   "source": [
    "while t < t_max:\n",
    "    x = x + dx\n",
    "    t = t + dt\n",
    "    print(t,x)"
   ]
  },
  {
   "cell_type": "markdown",
   "metadata": {},
   "source": [
    "So, here we have a \"while\" loop, which will run through all of the following code and then repeat as long as the condition given is satisfied. This condition is that $t < t\\_max$, meanding as long as the time, t, is less than t_max, the program will loop through and repeat the next three lines. Of vital importance to this loop is our \"counter\", in this case t, which we have to update everytime the loop is run in order to keep track of the elasped time. You know what would be even cooler? Graphing this to have an even more visual result of the motion."
   ]
  },
  {
   "cell_type": "code",
   "execution_count": 13,
   "metadata": {},
   "outputs": [],
   "source": [
    "import matplotlib.pyplot as plt\n",
    "\n",
    "#initial values\n",
    "x = 0.0\n",
    "t = 0.0\n",
    "\n",
    "#constants\n",
    "v = 10.0\n",
    "t_max = 5\n",
    "\n",
    "# initialize lists to hold the values created\n",
    "X=[0,]\n",
    "T=[0,]\n",
    "\n",
    "# set the step time. dt = 0.1 means that we will have ten steps per second.\n",
    "dt = 0.1\n",
    "\n",
    "# define how the position will change for each step (since velocity is constant, \n",
    "# this will not change over time, so\n",
    "# we can keep it out of the 'while' loop)\n",
    "dx = v*dt\n",
    "\n",
    "# set up the while loop to update the position and time after each step.\n",
    "# After this is done, these values are then added (appended) \n",
    "# to the X and T lists\n",
    "while t < t_max:\n",
    "    x = x + dx\n",
    "    t = t + dt\n",
    "    #print(t,x)\n",
    "    X.append(x)\n",
    "    T.append(t)\n",
    "\n",
    "#print(T,X)\n"
   ]
  },
  {
   "cell_type": "code",
   "execution_count": null,
   "metadata": {},
   "outputs": [],
   "source": [
    "plt.figure(0)\n",
    "plt.plot(T,X,'o')\n",
    "plt.xlabel('time')\n",
    "plt.ylabel('position')\n",
    "plt.show()"
   ]
  },
  {
   "cell_type": "markdown",
   "metadata": {},
   "source": [
    "So this gives us an example of plotting a postion versus time graph of an object moving at a constant speed. Now, we could use this to solve for some unknown quantity given the variables provided, or make changes to fit a new situation. However, you may be asking yourself, would it not be easier to just use $v=\\frac{\\Delta{x}}{\\Delta{t}}$ ?\n",
    "\n",
    "$$v=\\frac{\\Delta{x}}{\\Delta{t}}$$\n",
    "\n",
    "And this would generally be true, but we have to start somewhere.\n"
   ]
  },
  {
   "cell_type": "markdown",
   "metadata": {},
   "source": [
    "### Constant acceleration\n",
    "Now let's do the exact same thing as above, but add another variable for acceleration, and make it so velocity changes over time."
   ]
  },
  {
   "cell_type": "code",
   "execution_count": 15,
   "metadata": {},
   "outputs": [],
   "source": [
    "import matplotlib.pyplot as plt\n",
    "\n",
    "#initial values\n",
    "x = 0.0\n",
    "t = 0.0\n",
    "v = 0.0\n",
    "\n",
    "#constants\n",
    "a = 10.0\n",
    "t_max = 5\n",
    "\n",
    "# initialize lists to hold the values created\n",
    "X=[0,]\n",
    "V=[0,]\n",
    "T=[0,]\n",
    "\n",
    "# set the step time. dt = 0.1 means that we will have ten steps per second.\n",
    "dt = 0.1\n",
    "\n",
    "# define the change in velocity, which will not change\n",
    "dv = a * dt\n",
    "\n",
    "# set up the while loop to update the position and time after each step.\n",
    "#After this is done, these values are then added (appended) to\n",
    "# the X, V, and T lists\n",
    "\n",
    "while t < t_max:\n",
    "    # every time step, the postition will change by the velocity \n",
    "    # multiplied by the\n",
    "    # change in time\n",
    "    dx = v*dt\n",
    "    \n",
    "    x = x + dx\n",
    "    v = v + dv\n",
    "    t = t + dt\n",
    "\n",
    "    X.append(x)\n",
    "    V.append(v)\n",
    "    T.append(t)\n",
    "\n"
   ]
  },
  {
   "cell_type": "code",
   "execution_count": null,
   "metadata": {
    "scrolled": false
   },
   "outputs": [],
   "source": [
    "plt.figure(0)\n",
    "plt.plot(T,X,'o')\n",
    "plt.xlabel('time')\n",
    "plt.ylabel('position')\n",
    "plt.show()\n",
    "plt.clf()\n",
    "plt.figure(1)\n",
    "plt.plot(T,V,'o')\n",
    "plt.xlabel('time')\n",
    "plt.ylabel('velocity')"
   ]
  },
  {
   "cell_type": "code",
   "execution_count": null,
   "metadata": {},
   "outputs": [],
   "source": []
  }
 ],
 "metadata": {
  "kernelspec": {
   "display_name": "Python 3",
   "language": "python",
   "name": "python3"
  },
  "language_info": {
   "codemirror_mode": {
    "name": "ipython",
    "version": 3
   },
   "file_extension": ".py",
   "mimetype": "text/x-python",
   "name": "python",
   "nbconvert_exporter": "python",
   "pygments_lexer": "ipython3",
   "version": "3.5.2"
  }
 },
 "nbformat": 4,
 "nbformat_minor": 2
}
